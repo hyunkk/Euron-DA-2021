{
 "cells": [
  {
   "cell_type": "markdown",
   "id": "considerable-coaching",
   "metadata": {},
   "source": [
    "# 신 코로나 지역별 위험지표 제작 및 안전한 길찾기 플랫폼\n",
    "## 주제\n",
    ": 국민의 안전한 이동을 위해 **전국 코로나 위험도를 의미하는 위험지표**를 나타내고 위험지표 중 큰 비중을 차지하는 **유동 인구 데이터를 활용한 안전 경로 안내 서비스**   "
   ]
  },
  {
   "cell_type": "markdown",
   "id": "angry-permission",
   "metadata": {},
   "source": [
    "## 목차  \n",
    "### 0. 주제 선정 이유\n",
    "### 1. 코로나 데이터 전처리 및 EDA 분석\n",
    "    1. 라이브러리 호출  \n",
    "    2. 데이터 시각화   \n",
    "### 2. 교통 데이터 전처리\n",
    "    1. 서울시 대중교통 이용량 데이터 시각화   \n",
    "    2. TS교통카드 정류장 이용량 데이터 전처리   \n",
    "    3. TS교통가드 정류장 데이터 전처리   \n",
    "    4. 전처리한 데이터들을 정류장 ID로 통합\n",
    "### 3. 대중교통 안전 경로 추천 프로세스 제작\n",
    "    1. 배경  \n",
    "    2. 구현 방안\n",
    "### 4. 지역별 코로나 위험지표 회귀 모델 제작\n",
    "    1. 길찾기 프로그램 제작\n",
    "    2. 대중교통 Open API인 ODsay와 연동하여 Json 파일 받아오기   \n",
    "### 5. AWS Server 구축 및 주피터 설치\n",
    "### 6. 결론"
   ]
  },
  {
   "cell_type": "markdown",
   "id": "capable-swift",
   "metadata": {},
   "source": [
    "#### 0. 주제 선정 이유  \n",
    "* 수도권은 대중교통 이용자가 일 평균 약 800만명에 달한다. 대한민국 인구의 약 20%가 대중교통을 이용하는 셈이다. 이는 곧 국민 대다수가 코로나 위험에 노출되어 있다는 것을 의미한다. 영국 국민건강보험의 코로나19 가이드에 따르면 '근접 접촉'은 감염자 2m 이내에 15분 이상 머무르는 것을 의미한다. 따라서 과거 데이터를 통해 전철과 버스의 혼잡도를 미리 파악하여 혼잡도가 더 작은 경로를 제공하는 플랫폼을 제공함으로써 국민들의 감염확률을 줄이고자 한다. 또한 전국 코로나 감염에 위험한 지표가 될 수 있는 변수들을 찾아 회귀모델을 제작하여 종속변수가 높게 나오는 지역들을 구분하고 이를 통해 효과적인 방역에 보탬이 되고자 한다."
   ]
  },
  {
   "cell_type": "markdown",
   "id": "casual-jimmy",
   "metadata": {},
   "source": [
    "### 1. 코로나 데이터 전처리 및 EDA 분석\n",
    "#### 1.1 라이브러리 호출"
   ]
  },
  {
   "cell_type": "code",
   "execution_count": null,
   "id": "official-courtesy",
   "metadata": {},
   "outputs": [],
   "source": [
    "import mapboxgl\n",
    "import folium\n",
    "import matplotlib.font_manager as fm\n",
    "import seaborn as sns\n",
    "import mapclassify\n",
    "import json\n",
    "import requests\n",
    "import datetime as dt\n",
    "import pandas as pd\n",
    "import numpy as np\n",
    "import geopandas as gpd\n",
    "from pandas import DataFrame, Series\n",
    "import matplotlib.pyplot as plt\n",
    "import plotly_express as px\n",
    "import matplotlib as mpl\n",
    "import matplotlib.font_manager as fm\n",
    "import warnings\n",
    "import os\n",
    "import re\n",
    "from random import *\n",
    "from geopandas import GeoDataFrame\n",
    "from sklearn.preprocessing import MaxAbsScaler,RobustScaler\n",
    "import statsmodels.formula.api as sm \n",
    "import random\n",
    "import seaborn as sns\n",
    "import matplotlib.pyplot as plt\n",
    "from haversine import haversine\n",
    "from sklearn.linear_model import LinearRegression # 선형회귀모델 생성 \n",
    "from sklearn.model_selection import train_test_split # train/test set 생성 \n",
    "from sklearn.metrics import mean_squared_error # MSE : 평균제곱오차 - model 평가 \n",
    "\n",
    "warnings.filterwarnings(action='ignore')"
   ]
  },
  {
   "cell_type": "code",
   "execution_count": null,
   "id": "prescription-command",
   "metadata": {},
   "outputs": [],
   "source": [
    "Region = pd.read.csv(\"Region.csv\")\n",
    "Gender = pd.read_csv(\"TimeGender.csv\")\n",
    "covid_case = pd.read_csv(\"Case.csv\")\n",
    "Patient = pd.read_csv(\"PatientInfo.csv\")\n",
    "\n",
    "Region.head()"
   ]
  },
  {
   "cell_type": "markdown",
   "id": "central-identification",
   "metadata": {},
   "source": [
    "일별 성별별 누적 확진자 및 사망자 추이\n",
    "* 여성 확진자가 남성 확진자보다 더 많으나 사망자는 남자가 더 많다."
   ]
  },
  {
   "cell_type": "code",
   "execution_count": null,
   "id": "accurate-cathedral",
   "metadata": {},
   "outputs": [],
   "source": [
    "# date 열을 데이터타임으로 변환 후 인덱스로 설정\n",
    "Gender.date = pd.to_datetime(Gender.date)\n",
    "\n",
    "Gender = Gender.set_index(\"date\")\n",
    "\n",
    "male = Gender.loc[Gender['sex']=='male', :]\n",
    "female = Gender.loc[Gender['sex']=='female', :]\n",
    "\n",
    "# 그래프 한글 환경 설정\n",
    "%config InlineBackend.figure_format = 'retina'\n",
    "\n",
    "import matplotlib.font_manager as fm\n",
    "fontpath = 'NanumBarunGothic.ttf'\n",
    "font = fm.FontProperties(fname=fontpath, size=9)\n",
    "plt.rc('font', family='NanumBarunGothic')\n",
    "mpl.font_manager._rebuild()"
   ]
  },
  {
   "cell_type": "code",
   "execution_count": null,
   "id": "resident-fantasy",
   "metadata": {},
   "outputs": [],
   "source": [
    "# 그래픽 크기 설정\n",
    "plt.rcParams['font.size'] = 12\n",
    "plt.rcParama['figure.figsize'] = (14, 8)\n",
    "\n",
    "plt.plot(male['confirmed'], 'b', label='male')\n",
    "plt.plot(female['confirmed'], 'r', label='female')\n",
    "plt.grid()\n",
    "plt.legend()\n",
    "plt.title('일별 누적 확진자 추이', fontproperties=font)\n",
    "plt.xlabel('Month')\n",
    "plt.ylabel('누적 환자 수', fontproperties=font)\n",
    "plt.show()\n",
    "\n",
    "plt.plot(male['deceased'], 'b', label='male')\n",
    "plt.plot(female['deceased'], 'r', label='female')\n",
    "plt.grid()\n",
    "plt.legend()\n",
    "plt.title('일별 누적 사망자 추이', fontproperties=font)\n",
    "plt.xlabel('Month')\n",
    "plt.ylabel('누적 환자 수', fontproperties=font)\n",
    "plt.show()"
   ]
  },
  {
   "cell_type": "code",
   "execution_count": null,
   "id": "composed-invitation",
   "metadata": {},
   "outputs": [],
   "source": [
    "# 그래픽 크기 설정\n",
    "plt.rcParams[\"figure.figsize\"] = (18, 10)\n",
    "\n",
    "sum_tmp = covid_case.filter(['province', 'confirmed'])\n",
    "province_sum = sum_tmp.groupby(['province']).sum()\n",
    "\n",
    "# 지역별 확진자 발생현황 Bar 그래프 생성\n",
    "province_sum['confirmed'].plot.bar(color='#AD8EDB', rot=0, width=0.5)\n",
    "plt.grid()\n",
    "plt.legend()\n",
    "plt.title(\"지역별 확진자 발생현황\",fontproperties=font)\n",
    "plt.xlabel(\"지역\",fontproperties=font)\n",
    "plt.ylabel(\"확진자 수\")\n",
    "xpos = np.arange(len(province_sum.index))\n",
    "plt.xticks(xpos,list(province_sum.index))\n",
    "\n",
    "for x,y in enumerate(list(province_sum['confirmed'])):\n",
    "    num = \"%d명\"%y\n",
    "    plt.text(x, y, num, fontsize=11, color='#5D5D5D', horizontalalignment='center', verticalalignment='bottom')\n",
    "\n",
    "plt.show()"
   ]
  },
  {
   "cell_type": "markdown",
   "id": "historic-essence",
   "metadata": {},
   "source": [
    "* 지역별 집단 감염 발생현황 그래프"
   ]
  },
  {
   "cell_type": "code",
   "execution_count": null,
   "id": "latest-supervision",
   "metadata": {},
   "outputs": [],
   "source": [
    "# 그래픽 크기 설정\n",
    "plt.rcParams[\"figure.figsize\"] = (12, 5)\n",
    "\n",
    "# 집단 감염이 많이 일어난 지역을 기준으로 데이터 분할\n",
    "covid_group_tmp = covid_case[covid_case.group==True]\n",
    "covid_group = covid_group_tmp[covid_group_tmp.confirmed>=30]\n",
    "covid_group\n",
    "\n",
    "# 집단 감염이 많이 일어난 지역 파악을 위한 그래프 출력 (한번에 30명 이상의 집단 감염이 있었던 사례)\n",
    "group_sum_tmp = covid_group.filter(['province', 'confirmed'])\n",
    "group_province_sum = group_sum_tmp.groupby(['province']).sum()\n",
    "\n",
    "group_province_sum['confirmed'].plot.bar(color='#AD8EDB', rot=0, width=0.5)\n",
    "plt.grid()\n",
    "plt.legend()\n",
    "plt.title(\"지역별 집단 감염 발생현황\")\n",
    "plt.xlabel(\"지역\")\n",
    "plt.ylabel(\"확진자 수\")\n",
    "xpos = np.arange(len(group_province_sum.index))\n",
    "plt.xticks(xpos,list(group_province_sum.index))\n",
    "\n",
    "for x,y in enumerate(list(group_province_sum['confirmed'])):\n",
    "    num = \"%d명\"%y\n",
    "    plt.text(x, y, num, fontsize=11, color='#5D5D5D', horizontalalignment='center', verticalalignment='bottom')\n",
    "\n",
    "plt.show()"
   ]
  },
  {
   "cell_type": "markdown",
   "id": "checked-magnitude",
   "metadata": {},
   "source": [
    "* 집단 감염 사례 : 2위~6위"
   ]
  },
  {
   "cell_type": "code",
   "execution_count": null,
   "id": "stupid-jumping",
   "metadata": {},
   "outputs": [],
   "source": [
    "# 그래픽 크기 설정\n",
    "plt.rcParams[\"figure.figsize\"] = (15, 7)\n",
    "\n",
    "# 집단 감염 사례 상위 6개 확인\n",
    "groupcase = covid_group_tmp.filter(['infection_case', 'confirmed'])\n",
    "groupcase_tmp = groupcase.groupby(['infection_case']).sum()\n",
    "\n",
    "groupcase_top6 = groupcase_tmp.sort_values('confirmed',ascending=False).head(6)\n",
    "\n",
    "# 신천지 사례는 이미 독보적이므로 그를 제외한 다섯 가지 사례에 대한 pie chart 생성\n",
    "groupcase_top = groupcase_top6.iloc[1:7,:]\n",
    "\n",
    "c_map = plt.get_cmap('Spectral')\n",
    "col = [c_map(i) for i in np.linspace(0, 1, 5)]\n",
    "\n",
    "plt.title(\"집단 감염 사례 2위 - 6위\")\n",
    "plt.pie(groupcase_top.confirmed, labels=list(groupcase_top.index), autopct='%1.1f%%', shadow=True, colors=col)\n",
    "plt.show()"
   ]
  },
  {
   "cell_type": "code",
   "execution_count": null,
   "id": "knowing-february",
   "metadata": {},
   "outputs": [],
   "source": [
    "# 시, 도 단위로 데이터 분할 저장\n",
    "\n",
    "state_data = covid_case.filter(['province', 'confirmed'])\n",
    "state_data = state_data.groupby(['province'], as_index = False).sum()\n",
    "state_data"
   ]
  },
  {
   "cell_type": "code",
   "execution_count": null,
   "id": "expanded-cemetery",
   "metadata": {},
   "outputs": [],
   "source": [
    "# Time 데이터 읽은 뒤 달에 해당하는 column 추가\n",
    "# data와 time을 합쳐서 date에 다시 저장한 후 datatime 형식으로 변환\n",
    "\n",
    "covid_time = pd.read_csv(\"Time.csv\")\n",
    "covid_time['month'] = None\n",
    "for i in range(len(covid_time)):\n",
    "    covid_time['month'][i] = int(convid_time['date'][i].split('-')[1])\n",
    "    \n",
    "for i in range(len(covid_time)):\n",
    "    covid_time['date'][i] = \"{} {}:00:00\".format(covid_time['date'][i], covid_time['time'][i])\n",
    "    \n",
    "covid_time['date'] = covid_time['date'].astype('datetime64[ns]')\n",
    "covid_time"
   ]
  },
  {
   "cell_type": "code",
   "execution_count": null,
   "id": "third-capture",
   "metadata": {},
   "outputs": [],
   "source": [
    "# 확진자 신규 확진자와 신규 완치자 column 추가\n",
    "\n",
    "covid_time['newconfirmed'] = None\n",
    "covid_time['newconfirmed'][0] = covid_time['confirmed'][0]\n",
    "\n",
    "covid_time['newreleased'] = None\n",
    "covid_time['newreleased'][0] = covid_time['released'][0]\n",
    "\n",
    "for i in range(1, len(covid_time)):\n",
    "    covid_time['newconfirmed'][i] = covid_time['confirmed'][i] - covid_time['confirmed'][i-1]\n",
    "    covid_time['newreleased'][i] = covid_time['released'][i] - covid_time['released'][i-1]"
   ]
  },
  {
   "cell_type": "markdown",
   "id": "variable-genome",
   "metadata": {},
   "source": [
    "* 시간에 따른 신규 확진자-완치자 추이 (실질확진자) 그래프"
   ]
  },
  {
   "cell_type": "code",
   "execution_count": null,
   "id": "intellectual-buyer",
   "metadata": {},
   "outputs": [],
   "source": [
    "covid_time1 = covid_time.filter(['date', 'newconfirmed', 'newreleased'])\n",
    "covid_time1.set_index('date', inplace=True)\n",
    "\n",
    "covid_time1['newconfirmed'].plot()\n",
    "covid_time1['newreleased'].plot()\n",
    "plt.grid()\n",
    "plt.legend()\n",
    "plt.title('시간에 따른 신규 확진자-완치자 추이 : 실질 확진자', fontproperties=font)\n",
    "plt.xlabel('날짜')\n",
    "plt.ylabel('신규 확진자 및 신규 완치자 수')"
   ]
  },
  {
   "cell_type": "markdown",
   "id": "automatic-organization",
   "metadata": {},
   "source": [
    "* 위 그래프는 일별 신규 확진자와 신규 완치자 추이를 나타내는 그래프이다. 신규 확진자 수가 신규 완치자 수를 훌쩍 넘는 4월 초중순 정도까지의 구간은 코로나 확진세가 잘 잡히지 않던 정황을 보여주고, 그 이후는 코로나 확진세가 완화되었음을 보여준다."
   ]
  },
  {
   "cell_type": "markdown",
   "id": "anonymous-imaging",
   "metadata": {},
   "source": [
    "* 사랑제일교회 광화문 시위의 문제점에 주목할 필요가 있다. 집회 참가자 중 대다수는 집회 이후 귀가 시 감염의 위험을 안은 채로 대중교통을 이용하였음을 가정했을 때, 대중교통을 통한 코로나 전파 위험을 최소화 하는 것이 코로나의 확산 위험을 줄이는 데 일조할 것으로 예측할 수 있다. 따라서 대중교통의 혼잡도를 사전에 확인하고 상대적으로 혼잡하지 않은 수단을 이용할 수 있도록 유도하는 것이 중요하다."
   ]
  },
  {
   "cell_type": "code",
   "execution_count": null,
   "id": "invisible-category",
   "metadata": {},
   "outputs": [],
   "source": [
    "Patient\n",
    "\n",
    "Age=Patient['age'].value_counts()\n",
    "AgeDF=pd.DataFrame(Age)\n",
    "\n",
    "AgeDF_order = AgeDF.sort_index(ascending=True)\n",
    "\n",
    "AgeDF_order['age']\n",
    "\n",
    "AgeDF = AgeDF.reset_index()\n",
    "AgeDF.columns = ['age', 'confirmed']\n",
    "AgeDF['age']=AgeDF['age'].str[0:2]\n",
    "\n",
    "AgeDF['age'][8] = 0\n",
    "AgeDF['age'][10] = 100\n",
    "\n",
    "AgeDF['age'] = pd.to_numeric(AgeDF['age'])\n",
    "\n",
    "AgeDF = AgeDF.sort_values(by = ['age'])\n",
    "AgeDF = AgeDF.set_index('age')\n",
    "\n",
    "AgeDF.plot(kind='bar', title='연령별 확진자', rot=0, color='slateblue')\n",
    "plt.xlabel('연령대')\n",
    "plt.ylabel('확진자 수 (명)')\n",
    "plt.rcParmas['figure.figsize'] = (10, 4)\n",
    "plt.rcParmas['lines,linewidth'] = 2"
   ]
  },
  {
   "cell_type": "markdown",
   "id": "animal-costa",
   "metadata": {},
   "source": [
    "* 경제활동인구가 많은 연령대에서 확지자 수가 높은 것을 볼 수 있다. 이는 곧 경제활동 인구가 활발한 연령대들이 상대적으로 위험에 노출되어 있는 것을 의미한다."
   ]
  },
  {
   "cell_type": "markdown",
   "id": "superb-halloween",
   "metadata": {},
   "source": [
    "#### 광역시별 데이터와 시군구별 데이터 split\n",
    "\n",
    "* Region.csv 파일에서 제주도는 시군으로 나뉘어져있지 않기 때문에 City DataFrame에도 추가한다.\n",
    "* Region.csv 파일에 오타가 있어 직접 수정한다."
   ]
  },
  {
   "cell_type": "code",
   "execution_count": null,
   "id": "individual-board",
   "metadata": {},
   "outputs": [],
   "source": [
    "Metropolitan = [dict(Region.loc[index:]) for index in Region.index if (Region.loc[index, 'province']==Region.loc[index, 'city'])]\n",
    "Metropolitan = pd.DataFrame(Metropolitan)\n",
    "# 마지막행 제거\n",
    "Metropolitan = Metropolitan.iloc[:-1]\n",
    "City = [dict(Region.loc[index:]) for index in Region.index if (Region.loc[index, 'province']!= Region.loc[index, 'city'])]\n",
    "City = pd.DataFrame(City)\n",
    "# 제주도 추가\n",
    "City = City.append(Metropolitan.iloc[-1,:], ignore_index=True)"
   ]
  },
  {
   "cell_type": "markdown",
   "id": "aquatic-turner",
   "metadata": {},
   "source": [
    "- 자가격리자 수 분포 확인"
   ]
  },
  {
   "cell_type": "code",
   "execution_count": null,
   "id": "ecological-allergy",
   "metadata": {},
   "outputs": [],
   "source": [
    "plt.rcParams['font.size'] = 16\n",
    "\n",
    "# 데이터 분포 확인 : 자가격리자\n",
    "import seaborn as sns\n",
    "nursing = City['nursing_home_count']\n",
    "sns.kdeplot(nursing)\n",
    "plt.title('자가격리자 수 분포')\n",
    "plt.show()"
   ]
  },
  {
   "cell_type": "markdown",
   "id": "overall-cheat",
   "metadata": {},
   "source": [
    "- 변수 간 상관분석 실시"
   ]
  },
  {
   "cell_type": "code",
   "execution_count": null,
   "id": "fitting-boating",
   "metadata": {},
   "outputs": [],
   "source": [
    "# 위도, 경도 코드 column 삭제\n",
    "City_cor = City.drop(['code', 'province', 'city', 'latitude', 'longitude'], axis=1)\n",
    "plt.figure(figsize=(8, 8))\n",
    "sns.heatmap(data=City_cor.corr(), annot=True,\n",
    "            fmt='.2f', linewidths=.5, cmap=sns.diverging_palette(220, 20, as_cmap=True))"
   ]
  },
  {
   "cell_type": "markdown",
   "id": "exact-greeting",
   "metadata": {},
   "source": [
    "- 광역시별 자가격리자 시각화\n",
    ": 원의 크기로 자가격리자 수 표현"
   ]
  },
  {
   "cell_type": "code",
   "execution_count": null,
   "id": "residential-efficiency",
   "metadata": {},
   "outputs": [],
   "source": [
    "# 지도 초기화\n",
    "Covid_map = folium.Map(location=[36, 127], tiles='OpenStreetMap', zoom_start=7)\n",
    "for index in Metropolitan.index:\n",
    "    lat = Metropolitan.loc[index, 'latitude']\n",
    "    long = Metropolitan.loc[index, 'longitude']\n",
    "    folium.CircleMarker([lat, long],\n",
    "                        radius = Metropolitan.loc[index, 'nursing_home_count'/700],\n",
    "                        popup = Metropolitan.loc[index, 'province'],\n",
    "                        color = 'red',\n",
    "                        fill = True.add_to(Covid_map))\n",
    "Covid_map"
   ]
  },
  {
   "cell_type": "markdown",
   "id": "falling-sweet",
   "metadata": {},
   "source": [
    "* 시군구별 자가격리자 데이터 시각화"
   ]
  },
  {
   "cell_type": "code",
   "execution_count": null,
   "id": "psychological-approach",
   "metadata": {},
   "outputs": [],
   "source": [
    "Covid_map2 = folium.Map(location=[36, 127], tiles=\"OpenStreetMap\", zoom_start=7)\n",
    "for index in City.index :\n",
    "  lat = City.loc[index,'latitude']\n",
    "  long = City.loc[index,'longitude']\n",
    "  folium.CircleMarker([lat,long],\n",
    "                     radius = City.loc[index,'nursing_home_count']/9,\n",
    "                     popup = City.loc[index,'province'],\n",
    "                     color = 'blue',\n",
    "                     fill = True).add_to(Covid_map2)\n",
    "Covid_map2"
   ]
  },
  {
   "cell_type": "markdown",
   "id": "neutral-joining",
   "metadata": {},
   "source": [
    "* shape file 불러오기 및 좌표계 변환   "
   ]
  },
  {
   "cell_type": "code",
   "execution_count": null,
   "id": "eligible-heart",
   "metadata": {},
   "outputs": [],
   "source": [
    "gdf = gpd.read_file('SIG.shp', encoding = 'EUC-KR')\n",
    "gdf = gdf.to_crs({'init':'epsg:4326'})\n",
    "gdf.plot();"
   ]
  },
  {
   "cell_type": "markdown",
   "id": "changed-composer",
   "metadata": {},
   "source": [
    "* 외부 데이터와 내부 데이터 Merge (기준 : province, city)"
   ]
  },
  {
   "cell_type": "code",
   "execution_count": null,
   "id": "alternative-hartford",
   "metadata": {},
   "outputs": [],
   "source": [
    "gdf1 = pd.read_excel('Revised_gps_data.xlsx')\n",
    "gdf1.drop(['Unnamed: 0'],axis=1,inplace=True)\n",
    "gdf.SIG_CD = gdf1['province']\n",
    "gdf.SIG_KOR_NM = gdf1['city']\n",
    "gdf = gdf.drop(['SIG_ENG_NM'], axis = 1)\n",
    "gdf.columns = ['province','city','geometry']\n",
    "City = pd.read_excel(\"Revised_City.xlsx\")\n",
    "Merge_data = pd.merge(left=gdf, right=City, how='left', on=['province','city'], sort=False)\n",
    "Merge_data.drop(['Column1','code'],axis = 1, inplace = True)\n",
    "Merge_data.head(1)"
   ]
  },
  {
   "cell_type": "markdown",
   "id": "interesting-license",
   "metadata": {},
   "source": [
    "* 시군구별 자가격리자 수 데이터 시각화"
   ]
  },
  {
   "cell_type": "code",
   "execution_count": null,
   "id": "expanded-mayor",
   "metadata": {},
   "outputs": [],
   "source": [
    "fig, ax = plt.subplots(figsize=(10,8))\n",
    "Merge_data.plot(ax=ax, column=\"nursing_home_count\", cmap=\"Reds\", edgecolor=\"grey\", linewidth=0.4, legend=True)\n",
    "ax.axis(\"off\")\n",
    "plt.axis('equal')\n",
    "plt.show()"
   ]
  },
  {
   "cell_type": "markdown",
   "id": "suspended-intersection",
   "metadata": {},
   "source": [
    "위 지도를 보면 수도권에 자가격리자가 집중되어 잇는 것을 확인할 수 있다. 따라서 서울을 중점적으로 분석하기로 한다. "
   ]
  },
  {
   "cell_type": "markdown",
   "id": "changed-charter",
   "metadata": {},
   "source": [
    "** 교통 데이터 전처리 --> R"
   ]
  },
  {
   "cell_type": "code",
   "execution_count": null,
   "id": "comic-apple",
   "metadata": {},
   "outputs": [],
   "source": [
    "# 지하철역 이용량 데이터\n",
    "Subway = pd.read_csv('Subway_Popularity_July.csv', encoding='cp949')\n",
    "\n",
    "# 버스정류장 이용량 데이터\n",
    "Bus = pd.read_csv('BUS3_2.csv', encoding='cp949')\n",
    "\n",
    "# 지하철역 위도 경도 데이터\n",
    "SubwayLongLat = pd.read_csv('SubwayLocation.csv', encoding='utf-8')\n",
    "\n",
    "# 버스정류장 위도 경도 데이터\n",
    "BusLongLat = pd.read_csv('BusLocation.csv', encoding='cp949')\n",
    "\n",
    "# 확진자 방문장소 데이터\n",
    "Visitor = pd.read_csv('Place_Visitors.csv', encoding='utf-8')"
   ]
  },
  {
   "cell_type": "markdown",
   "id": "grave-safety",
   "metadata": {},
   "source": [
    "데이터 전처리"
   ]
  },
  {
   "cell_type": "code",
   "execution_count": null,
   "id": "everyday-scottish",
   "metadata": {},
   "outputs": [],
   "source": [
    "ColumnList = []\n",
    "NameList = []\n",
    "\n",
    "\n",
    "# column명 전처리\n",
    "Subway.columns = Subway.columns.str.replace(\" \",\"\")\n",
    "Subway.columns.values[:11] = Subway.columns[:11].str.replace(\"0\",\"\")\n",
    "for Column in Subway.columns:\n",
    "  ColumnList.append(Column.split('~')[0])\n",
    "Subway.columns = ColumnList\n",
    "\n",
    "# column명 변경 및 필요없는 column 삭제\n",
    "Subway['역명'].str.split('(')[0]\n",
    "Subway = Subway.rename({'6시이전':'5','24시이후':'24'}, axis='columns')\n",
    "Subway = Subway.drop(['구분','할인','호선','역번호','합계'], axis='columns')\n",
    "\n",
    "# 필요한 열 기준으로 그룹화하여 합산\n",
    "Subway = Subway.groupby(['날짜','역명']).sum()\n",
    "Subway = Subway.reset_index()\n",
    "\n",
    "# 역명 뒤에 ()붙으면 그 앞까지만 저장\n",
    "for Station in Subway['역명']:\n",
    "  NameList.append(Station.split('(')[0])\n",
    "\n",
    "Subway['역명'] = NameList\n",
    "\n",
    "# 날짜형식 변환 및 요일 column 추가\n",
    "Subway['날짜'] = pd.to_datetime(Subway['날짜'])\n",
    "Subway.insert(1,'요일',Subway['날짜'].dt.dayofweek)\n",
    "\n",
    "# 필요한 열 기준으로 그룹화하여 합산\n",
    "Subway_DayOfWeek = Subway.groupby(['요일','역명']).sum()\n",
    "Subway_DayOfWeek = Subway_DayOfWeek.reset_index()\n",
    "\n",
    "Subway_DayOfWeek.head()"
   ]
  },
  {
   "cell_type": "markdown",
   "id": "initial-dream",
   "metadata": {},
   "source": [
    "지하철 역별 위도 경도 좌표 데이터"
   ]
  },
  {
   "cell_type": "code",
   "execution_count": null,
   "id": "radical-distance",
   "metadata": {},
   "outputs": [],
   "source": [
    "#불필요한 열 제거\n",
    "SubwayLongLat = SubwayLongLat.drop(['Unnamed: 3','place'], axis='columns')\n",
    "\n",
    "# Subway_DayOfWeek 데이터프레임에 맞게 문자열 처리, column 명 변환\n",
    "SubwayLongLat['address'] = SubwayLongLat['address'].str[:-1]\n",
    "SubwayLongLat['address'][SubwayLongLat['address'] == '서울'] = '서울역'\n",
    "SubwayLongLat = SubwayLongLat.rename({'address' : '역명'}, axis='columns')\n",
    "SubwayLongLat.head()"
   ]
  },
  {
   "cell_type": "markdown",
   "id": "eligible-medicare",
   "metadata": {},
   "source": [
    "버스 정류장별 데이터"
   ]
  },
  {
   "cell_type": "code",
   "execution_count": null,
   "id": "incorrect-editing",
   "metadata": {},
   "outputs": [],
   "source": [
    "# 날짜 형식으로 변환\n",
    "Bus['DATE'] = Bus['DATE'].astype(str)\n",
    "Bus['DATE'] = Bus['DATE'].str[:4] + '-' + Bus['DATE'].str[4:6] + '-' + Bus['DATE'].str[-2:]\n",
    "Bus['DATE'] = pd.to_datetime(Bus['DATE'])\n",
    "\n",
    "# 필요없는 column 제거 및 요일 column 추가\n",
    "Bus.columns = ['시간', '날짜', '시군구코드','역번호','역명','승차인원','하차인원']\n",
    "Bus.insert(1,'요일',Bus['날짜'].dt.dayofweek)\n",
    "Bus = Bus.drop(['날짜','시군구코드','역번호','하차인원'], axis='columns')\n",
    "\n",
    "# 필요한 열 기준으로 그룹화하여 합산\n",
    "Bus_DayOfWeek = Bus.groupby(['시간','요일','역명']).sum()\n",
    "Bus_DayOfWeek = Bus_DayOfWeek.reset_index()\n",
    "\n",
    "# 필요없는 column 제거 및 column명 변환\n",
    "BusLongLat = BusLongLat.drop(['표준ID','ARS-ID','비고'], axis='columns')\n",
    "BusLongLat = BusLongLat.rename({'정류장명':'역명', 'X좌표':'Longitude', 'Y좌표':'Latitude'}, axis='columns')\n",
    "BusLongLat.head()"
   ]
  },
  {
   "cell_type": "markdown",
   "id": "reliable-education",
   "metadata": {},
   "source": [
    "#### 함수 구축"
   ]
  },
  {
   "cell_type": "code",
   "execution_count": null,
   "id": "industrial-victoria",
   "metadata": {},
   "outputs": [],
   "source": [
    "def TimeRoute(JsonFile):\n",
    "  RouteList = []\n",
    "  \n",
    "  # 경로마다 PathType, TotalTime 저장\n",
    "  for PathType in JsonFile['result']['path']:\n",
    "    Route = [{'PathType' : PathType['pathType'], 'TotalTime' : PathType['info']['totalTime']}]\n",
    "\n",
    "    # trafficType 확인 후 해당 데이터셋에서 조회하여 필요한 값들 저장\n",
    "    for Path in PathType['subPath'][1:-1]:\n",
    "      if Path['trafficType'] == 1:\n",
    "        Route.append({'TrafficType' : Path['trafficType'], 'StationID' : Path['startID'], 'Lane' : Path['lane'][0]['name'], 'StationName' : Path['startName']})\n",
    "\n",
    "      elif Path['trafficType'] == 2:\n",
    "        Route.append({'TrafficType' : Path['trafficType'], 'StationID' : Path['startID'], 'Lane' : Path['lane'][0]['busNo'], 'StationName' : Path['startName']})\n",
    "\n",
    "\n",
    "    Route.append({'StationID' : Path['endID'], 'StationName' : Path['endName']})\n",
    "    RouteList.append(Route)\n",
    "\n",
    "\n",
    "  return(RouteList)"
   ]
  },
  {
   "cell_type": "code",
   "execution_count": null,
   "id": "local-feeling",
   "metadata": {},
   "outputs": [],
   "source": [
    "def NumOfPeople(TimeRouteFile):\n",
    "  DayOfWeek = dt.datetime.now().weekday()\n",
    "  RouteTime = dt.datetime.now().hour\n",
    "  RouteSumList = []\n",
    "  TypeList = []\n",
    "\n",
    "  # PathType과 TrafficType을 확인하여 적절한 데이터셋으로부터 유동인구를 저장\n",
    "  for Route in TimeRouteFile:\n",
    "    RouteSum = []\n",
    "    Type = []\n",
    "    if Route[0]['PathType'] == 1:\n",
    "      for Station in Route[1:]:\n",
    "        RouteSum.append(sum(Subway_DayOfWeek['{}'.format(RouteTime)][Subway_DayOfWeek['요일'] == DayOfWeek][Subway_DayOfWeek['역명'] == Station['StationName']]))\n",
    "        Type.append(1)\n",
    "\n",
    "    elif Route[0]['PathType'] == 2:\n",
    "      for Station in Route[1:]:\n",
    "        RouteSum.append(sum(Bus_DayOfWeek['승차인원'][Bus_DayOfWeek['시간']==RouteTime][Bus_DayOfWeek['요일']==DayOfWeek][Bus_DayOfWeek['역명']==Station['StationName']]))\n",
    "        Type.append(2)\n",
    "    \n",
    "    else:\n",
    "      for Station in Route[1:-1]:\n",
    "        if Station['TrafficType'] == 1:\n",
    "          RouteSum.append(sum(Subway_DayOfWeek['{}'.format(RouteTime)][Subway_DayOfWeek['요일'] == DayOfWeek][Subway_DayOfWeek['역명'] == Station['StationName']]))\n",
    "          Type.append(1)\n",
    "        else:\n",
    "          RouteSum.append(sum(Bus_DayOfWeek['승차인원'][Bus_DayOfWeek['시간']==RouteTime][Bus_DayOfWeek['요일']==DayOfWeek][Bus_DayOfWeek['역명'] == Station['StationName']]))\n",
    "          Type.append(2)\n",
    "      if Station['TrafficType'] == 1:\n",
    "        RouteSum.append(sum(Subway_DayOfWeek['{}'.format(RouteTime)][Subway_DayOfWeek['요일'] == DayOfWeek][Subway_DayOfWeek['역명'] == str(Route[-1]['StationName'])]))\n",
    "        Type.append(1)\n",
    "      else:\n",
    "        RouteSum.append(sum(Bus_DayOfWeek['승차인원'][Bus_DayOfWeek['시간']==RouteTime][Bus_DayOfWeek['요일']==DayOfWeek][Bus_DayOfWeek['역명']==Route[-1]['StationName']]))\n",
    "        Type.append(2)\n",
    "      \n",
    "    TypeList.append(Type)\n",
    "    RouteSumList.append(RouteSum)\n",
    "\n",
    "\n",
    "\n",
    "  return(RouteSumList,TypeList)"
   ]
  },
  {
   "cell_type": "code",
   "execution_count": null,
   "id": "automotive-gardening",
   "metadata": {},
   "outputs": [],
   "source": [
    "def RouteIndex(NumOfPeopleFile):\n",
    "  NewNumList = []\n",
    "  IndexList = []\n",
    "  NewIndexList = []\n",
    "\n",
    "  # 중복 경로 제거하는 반복문 생성\n",
    "  for idx, NumList in enumerate(NumOfPeopleFile[0]):\n",
    "    if NumList not in NewNumList:\n",
    "      NewNumList.append(NumList)\n",
    "      IndexList.append(idx)\n",
    "      NewIndexList.append(NumOfPeopleFile[1][idx])\n",
    "\n",
    "  NewNumList = NewNumList[:5]\n",
    "  IndexList = IndexList[:5]\n",
    "  NewIndexList = NewIndexList[:5]\n",
    "\n",
    "  return(NewNumList, IndexList, NewIndexList)"
   ]
  },
  {
   "cell_type": "code",
   "execution_count": null,
   "id": "furnished-criterion",
   "metadata": {},
   "outputs": [],
   "source": [
    "def CongestionLevel(RouteIndexFile):\n",
    "  DayOfWeek = dt.datetime.now().weekday()\n",
    "  RouteTime = dt.datetime.now().hour\n",
    "\n",
    "  # 기초 level 단위 지정\n",
    "  PopSubLevel = 1000\n",
    "  PopBusLevel = 115\n",
    "\n",
    "  # 최대 가능 level 계산\n",
    "  MaxPopSub = np.max(Subway_DayOfWeek['{}'.format(RouteTime)][Subway_DayOfWeek['요일'] == DayOfWeek])//PopSubLevel + 1\n",
    "  MaxPopBus = np.max(Bus['승차인원'][Bus['시간'] == RouteTime][Bus['요일'] == DayOfWeek])//PopBusLevel + 1\n",
    "  \n",
    "  # Scaling Ratio 계산\n",
    "  Ratio = MaxPopBus / MaxPopSub\n",
    "\n",
    "  LevelList1 = []\n",
    "  LevelList = []\n",
    "\n",
    "  # 혼잡도 점수 계산\n",
    "  for i in range(len(RouteIndexFile[1])):\n",
    "    Level = []\n",
    "    for j in range(len(RouteIndexFile[2][i])):\n",
    "      if RouteIndexFile[2][i][j] == 1:\n",
    "        Level.append((RouteIndexFile[0][i][j] // PopSubLevel + 1) * Ratio)\n",
    "      \n",
    "      else:\n",
    "        Level.append(RouteIndexFile[0][i][j] // MaxPopBus + 1)\n",
    "    \n",
    "    LevelList1.append(round(sum(Level), 4))\n",
    "\n",
    "  for Levels in LevelList1:\n",
    "    LevelList.append(round(Levels/sum(LevelList1),4))\n",
    "  \n",
    "  return(LevelList)"
   ]
  },
  {
   "cell_type": "code",
   "execution_count": null,
   "id": "rolled-danger",
   "metadata": {},
   "outputs": [],
   "source": [
    "def TransferStation(TimeRouteFile):\n",
    "  Idx = RouteIndex(NumOfPeople(TimeRouteFile))[1]\n",
    "  TransferList = []\n",
    "\n",
    "  # 환승지 데이터만 빼서 저장\n",
    "  for idx in Idx:\n",
    "    TransferStation = []\n",
    "    for Station in TimeRouteFile[idx][1:-1]:\n",
    "      TransferStation.append({'TrafficType' : Station['TrafficType'], 'StationName' : Station['StationName']})\n",
    "    TransferList.append(TransferStation)\n",
    "  \n",
    "  return(TransferList)"
   ]
  },
  {
   "cell_type": "code",
   "execution_count": null,
   "id": "ceramic-flooring",
   "metadata": {},
   "outputs": [],
   "source": [
    "def LongLat(TransferStationFile):\n",
    "  LongLatList = []\n",
    "  for Stations in TransferStationFile:\n",
    "    LongLat = []\n",
    "\n",
    "    # TrafficType 확인 후 적절한 데이터 셋에서 위도와 경도 좌표 조회하여 저장\n",
    "    for Station in Stations:\n",
    "      if Station['TrafficType'] == 1:\n",
    "        LongLat.append({'Latitude' : np.max(SubwayLongLat['Latitude'][SubwayLongLat['역명']==Station['StationName']].astype('float')), 'Longitude' : np.max(SubwayLongLat['Longitude'][SubwayLongLat['역명']==Station['StationName']].astype('float'))})\n",
    "      else:\n",
    "        LongLat.append({'Latitude' : np.max(BusLongLat['Latitude'][BusLongLat['역명']==Station['StationName']].astype('float')), 'Longitude' : np.max(BusLongLat['Longitude'][BusLongLat['역명']==Station['StationName']].astype('float'))})\n",
    "    \n",
    "    LongLatList.append(LongLat)\n",
    "  \n",
    "  return(LongLatList)"
   ]
  },
  {
   "cell_type": "code",
   "execution_count": null,
   "id": "diverse-difficulty",
   "metadata": {},
   "outputs": [],
   "source": [
    "def DangerLevel(LongLatFile):\n",
    "  CountList = []\n",
    "  CountList1 = []\n",
    "  for Long_Lats in LongLatFile:\n",
    "    CountList2 = []\n",
    "    for Long_Lat in Long_Lats:\n",
    "      Count = 0\n",
    "\n",
    "      # haversine 모듈 이용하여 거리 계산 및 count\n",
    "      for i in range(len(Visitor)):\n",
    "        if haversine((Long_Lat['Latitude'], Long_Lat['Longitude']), (Visitor['Latitude'][i],Visitor['Longitude'][i]), unit = 'km') < 3:\n",
    "          Count += 1\n",
    "      CountList2.append(Count)\n",
    "    CountList1.append(sum(CountList2))\n",
    "  \n",
    "  for Counts in CountList1:\n",
    "    CountList.append(round(Counts/sum(CountList1)*0.4,4))\n",
    "\n",
    "\n",
    "  return(CountList)"
   ]
  },
  {
   "cell_type": "code",
   "execution_count": null,
   "id": "freelance-coordinate",
   "metadata": {},
   "outputs": [],
   "source": [
    "def Recommendation(TimeRouteFile, RouteIndexFile, CongestionLevelFile, DangerLevelFile):\n",
    "  TotalPoint = []\n",
    "  RouteList = []\n",
    "\n",
    "  # 위험도 지표 2개 합산하여 총점 산출\n",
    "  for i in range(len(CongestionLevelFile)):\n",
    "    TotalPoint.append(CongestionLevelFile[i] + DangerLevelFile[i])\n",
    "  \n",
    "  # 총점 중 최소값 찾기 (가장 안전한 경로 찾기)\n",
    "  for idx, point in enumerate(TotalPoint):\n",
    "    if point == min(TotalPoint):\n",
    "      Index = idx\n",
    "  \n",
    "  # 경로 저장\n",
    "  for i in range(len(RouteIndexFile[1])):\n",
    "    Route = []\n",
    "    for StationInfo in TimeRouteFile[i][1:-1]:\n",
    "      Route.append('({}){}'.format(StationInfo['Lane'], StationInfo['StationName']))\n",
    "    Route.append('{}'.format(TimeRouteFile[i][-1]['StationName']))\n",
    "    RouteList.append(Route)\n",
    "\n",
    "  BestRoute = RouteList[Index]\n",
    "\n",
    "  return(RouteList,BestRoute,Index)"
   ]
  },
  {
   "cell_type": "markdown",
   "id": "under-turner",
   "metadata": {},
   "source": [
    "#### Json 파일 불러오기 및 함수 적용"
   ]
  },
  {
   "cell_type": "code",
   "execution_count": null,
   "id": "under-weekly",
   "metadata": {},
   "outputs": [],
   "source": [
    "a = TimeRoute(TransportJson)\n",
    "\n",
    "# 상위 3개만 출력\n",
    "a[:3]"
   ]
  },
  {
   "cell_type": "code",
   "execution_count": null,
   "id": "identified-seeking",
   "metadata": {},
   "outputs": [],
   "source": [
    "b = NumOfPeople(a)\n",
    "\n",
    "b"
   ]
  },
  {
   "cell_type": "code",
   "execution_count": null,
   "id": "suitable-silence",
   "metadata": {},
   "outputs": [],
   "source": [
    "c = RouteIndex(b)\n",
    "\n",
    "c"
   ]
  },
  {
   "cell_type": "code",
   "execution_count": null,
   "id": "pursuant-convergence",
   "metadata": {},
   "outputs": [],
   "source": [
    "d = CongestionLevel(c)\n",
    "\n",
    "d"
   ]
  },
  {
   "cell_type": "code",
   "execution_count": null,
   "id": "precious-serbia",
   "metadata": {},
   "outputs": [],
   "source": [
    "e = TransferStation(a)\n",
    "\n",
    "e"
   ]
  },
  {
   "cell_type": "code",
   "execution_count": null,
   "id": "incorrect-carter",
   "metadata": {},
   "outputs": [],
   "source": [
    "f = LongLat(e)\n",
    "\n",
    "f"
   ]
  },
  {
   "cell_type": "code",
   "execution_count": null,
   "id": "square-cartoon",
   "metadata": {},
   "outputs": [],
   "source": [
    "g = DangerLevel(f)\n",
    "\n",
    "g"
   ]
  },
  {
   "cell_type": "code",
   "execution_count": null,
   "id": "directed-admission",
   "metadata": {},
   "outputs": [],
   "source": [
    "h = Recommendation(a,c,d,g)\n",
    "\n",
    "Route = h[0]\n",
    "BestRoute = h[1]\n",
    "BestIndex = h[2]\n",
    "\n",
    "h"
   ]
  },
  {
   "cell_type": "markdown",
   "id": "democratic-solomon",
   "metadata": {},
   "source": [
    "최종 결과 출력"
   ]
  },
  {
   "cell_type": "code",
   "execution_count": null,
   "id": "secret-poverty",
   "metadata": {},
   "outputs": [],
   "source": [
    "print(\"\"\"목적지까지의 경로입니다.\n",
    "\n",
    "경로 1 : {} / {}분 소요\n",
    "경로 2 : {} / {}분 소요\n",
    "경로 3 : {} / {}분 소요\n",
    "경로 4 : {} / {}분 소요\n",
    "경로 5 : {} / {}분 소요\n",
    "\n",
    "\n",
    "안전 지표 기반 최적 경로 :\n",
    "***********************************************************************\n",
    "{} / {}분 소요\n",
    "***********************************************************************\n",
    "\n",
    "\n",
    "(위 결과는 경로 상의 출발지, 환승지, 도착지의 혼잡도 지표와 환승지 근처의 확진자 방문장소 수 지표를 기반으로 추천된 경로입니다.)\n",
    "\"\"\".format(' -> '.join(Route[0]), a[c[1][0]][0]['TotalTime'],\n",
    "           ' -> '.join(Route[1]), a[c[1][1]][0]['TotalTime'],\n",
    "           ' -> '.join(Route[2]), a[c[1][2]][0]['TotalTime'],\n",
    "           ' -> '.join(Route[3]), a[c[1][3]][0]['TotalTime'],\n",
    "           ' -> '.join(Route[4]), a[c[1][4]][0]['TotalTime'],\n",
    "           ' -> '.join(BestRoute), a[c[1][BestIndex]][0]['TotalTime']))"
   ]
  },
  {
   "cell_type": "code",
   "execution_count": null,
   "id": "binding-chassis",
   "metadata": {},
   "outputs": [],
   "source": []
  }
 ],
 "metadata": {
  "kernelspec": {
   "display_name": "py38",
   "language": "python",
   "name": "py38"
  },
  "language_info": {
   "codemirror_mode": {
    "name": "ipython",
    "version": 3
   },
   "file_extension": ".py",
   "mimetype": "text/x-python",
   "name": "python",
   "nbconvert_exporter": "python",
   "pygments_lexer": "ipython3",
   "version": "3.8.8"
  }
 },
 "nbformat": 4,
 "nbformat_minor": 5
}
